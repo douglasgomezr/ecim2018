{
 "cells": [
  {
   "cell_type": "markdown",
   "metadata": {},
   "source": [
    "# RGB well logs\n",
    "\n",
    "A quick demo for ECIM 2018."
   ]
  },
  {
   "cell_type": "code",
   "execution_count": null,
   "metadata": {},
   "outputs": [],
   "source": [
    "import welly\n",
    "w = welly.Well.from_las('data/2090867.las')"
   ]
  },
  {
   "cell_type": "code",
   "execution_count": null,
   "metadata": {},
   "outputs": [],
   "source": [
    "w"
   ]
  },
  {
   "cell_type": "code",
   "execution_count": null,
   "metadata": {},
   "outputs": [],
   "source": [
    "logs = ['POTA', 'THOR', 'URAN']\n",
    "\n",
    "import numpy as np\n",
    "data = np.array([w.data[log] for log in logs]).T"
   ]
  },
  {
   "cell_type": "code",
   "execution_count": null,
   "metadata": {},
   "outputs": [],
   "source": [
    "data.shape"
   ]
  },
  {
   "cell_type": "code",
   "execution_count": null,
   "metadata": {},
   "outputs": [],
   "source": [
    "%matplotlib inline\n",
    "import matplotlib.pyplot as plt\n",
    "plt.imshow(data.reshape(-1, 1, 3), aspect=0.01)"
   ]
  },
  {
   "cell_type": "code",
   "execution_count": null,
   "metadata": {},
   "outputs": [],
   "source": [
    "plt.figure(figsize=(2, 12))\n",
    "plt.imshow(data.reshape(-1, 1, 3), aspect='auto')"
   ]
  },
  {
   "cell_type": "markdown",
   "metadata": {},
   "source": [
    "Everything after this is just window dressing really. \n",
    "\n",
    "We should normalize the data for display, because POTA is in % and URAN and THOR are in ppm, and they all have different ranges. Of course, how we do that is up to us, but I'll try something naive first.\n",
    "\n",
    "Also, it seems we have a lot of stuff with low GR, and a few big spikes. This makes is hard to see the display. So we can apply some nonlinear scaling... how about just taking the square root for now?\n",
    "\n",
    "Also, maybe it would be nice to see the "
   ]
  },
  {
   "cell_type": "code",
   "execution_count": null,
   "metadata": {},
   "outputs": [],
   "source": [
    "data.shape"
   ]
  },
  {
   "cell_type": "code",
   "execution_count": null,
   "metadata": {},
   "outputs": [],
   "source": [
    "def normalize(data):\n",
    "    return (data - np.nanmin(data)) / (np.nanmax(data) - np.nanmin(data))\n",
    "\n",
    "data = np.array([normalize(w.data[log]) for log in logs]).T\n",
    "gr = w.data['GR']\n",
    "\n",
    "fig, axs = plt.subplots(figsize=(4, 12), ncols=2)\n",
    "axs[0].plot(gr, gr.basis)\n",
    "axs[0].set_ylim(gr.stop, gr.start)\n",
    "axs[1].imshow(np.sqrt(data.reshape(-1, 1, 3)), aspect='auto')\n",
    "axs[1].set_yticklabels([])\n",
    "axs[1].set_xticklabels([])\n",
    "axs[0].set_title('GR')\n",
    "axs[1].set_title('RGB')\n",
    "axs[0].grid(color='k', alpha=0.2)\n",
    "plt.show()"
   ]
  },
  {
   "cell_type": "code",
   "execution_count": null,
   "metadata": {},
   "outputs": [],
   "source": []
  }
 ],
 "metadata": {
  "kernelspec": {
   "display_name": "geocomp",
   "language": "python",
   "name": "geocomp"
  },
  "language_info": {
   "codemirror_mode": {
    "name": "ipython",
    "version": 3
   },
   "file_extension": ".py",
   "mimetype": "text/x-python",
   "name": "python",
   "nbconvert_exporter": "python",
   "pygments_lexer": "ipython3",
   "version": "3.6.4"
  }
 },
 "nbformat": 4,
 "nbformat_minor": 2
}
