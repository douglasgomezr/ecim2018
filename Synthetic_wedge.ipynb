{
 "cells": [
  {
   "cell_type": "markdown",
   "metadata": {},
   "source": [
    "# Synthetic seismic: wedge\n",
    "\n",
    "## Make an earth model"
   ]
  },
  {
   "cell_type": "code",
   "execution_count": null,
   "metadata": {},
   "outputs": [],
   "source": [
    "import matplotlib.pyplot as plt\n",
    "import numpy as np\n",
    "% matplotlib inline"
   ]
  },
  {
   "cell_type": "code",
   "execution_count": null,
   "metadata": {},
   "outputs": [],
   "source": [
    "length = 80  # x range\n",
    "depth = 200  # z range"
   ]
  },
  {
   "cell_type": "code",
   "execution_count": null,
   "metadata": {},
   "outputs": [],
   "source": [
    "# We have to pass dtype=int or we get floats.\n",
    "# We need ints because we're going to use for indexing later.\n",
    "model = 1 + np.tri(depth, length, -depth//3, dtype=int)"
   ]
  },
  {
   "cell_type": "markdown",
   "metadata": {},
   "source": [
    "Now set the upper part of the model — above the wedge — to zero."
   ]
  },
  {
   "cell_type": "code",
   "execution_count": null,
   "metadata": {},
   "outputs": [],
   "source": [
    "model[:depth//3,:] = 0\n",
    "\n",
    "plt.imshow(model)\n",
    "plt.colorbar()\n",
    "plt.show()"
   ]
  },
  {
   "cell_type": "markdown",
   "metadata": {},
   "source": [
    "Now we can make some Vp-rho pairs (rock 0 and rock 1)."
   ]
  },
  {
   "cell_type": "code",
   "execution_count": null,
   "metadata": {},
   "outputs": [],
   "source": [
    "rocks = np.array([[2700, 2750],\n",
    "                  [2400, 2450],\n",
    "                  [2800, 3000]])"
   ]
  },
  {
   "cell_type": "markdown",
   "metadata": {},
   "source": [
    "Now we can use ['fancy indexing'](http://docs.scipy.org/doc/numpy/user/basics.indexing.html) to use `model`, which is an array of 0, 1, and 2, as the indices of the rock property pairs to 'grab' from `rocks`."
   ]
  },
  {
   "cell_type": "code",
   "execution_count": null,
   "metadata": {},
   "outputs": [],
   "source": [
    "earth = rocks[model]"
   ]
  },
  {
   "cell_type": "markdown",
   "metadata": {},
   "source": [
    "Now apply `np.product` to those Vp-rho pairs to get impedance at every sample."
   ]
  },
  {
   "cell_type": "code",
   "execution_count": null,
   "metadata": {},
   "outputs": [],
   "source": [
    "imp = np.apply_along_axis(np.product, -1, earth)"
   ]
  },
  {
   "cell_type": "markdown",
   "metadata": {},
   "source": [
    "## Model seismic reflections\n",
    "\n",
    "Now we have an earth model — giving us acoustic impedance everywhere in this 2D grid — we define a function to compute reflection coefficients for every trace."
   ]
  },
  {
   "cell_type": "code",
   "execution_count": null,
   "metadata": {},
   "outputs": [],
   "source": [
    "def make_rc(imp):\n",
    "    upper = imp[ :-1, :]\n",
    "    lower = imp[1:  , :]\n",
    "    \n",
    "    return (lower - upper) / (lower + upper)\n",
    "\n",
    "rc = make_rc(imp)\n",
    "\n",
    "plt.figure(figsize=(8,4))\n",
    "plt.imshow(rc, aspect=0.2)\n",
    "plt.show()"
   ]
  },
  {
   "cell_type": "markdown",
   "metadata": {},
   "source": [
    "We'll use `bruges` to make a wavelet:"
   ]
  },
  {
   "cell_type": "code",
   "execution_count": null,
   "metadata": {},
   "outputs": [],
   "source": [
    "from bruges.filters import ricker\n",
    "\n",
    "f = 25  # Hz\n",
    "wavelet = ricker(0.128, 0.001, f)\n",
    "\n",
    "plt.plot(wavelet)\n",
    "plt.show()"
   ]
  },
  {
   "cell_type": "markdown",
   "metadata": {},
   "source": [
    "It's only a little trickier for us to apply 1D convolution to every trace in our 2D reflection coeeficient matrix. NumPy provides a function, `apply_along_axis()` to apply any function along any one axis of an n-dimensional array. I don't think it's much faster than looping, but I find it easier to think about."
   ]
  },
  {
   "cell_type": "code",
   "execution_count": null,
   "metadata": {},
   "outputs": [],
   "source": [
    "def convolve(trace):\n",
    "    return np.convolve(trace, wavelet, mode='same')\n",
    "\n",
    "synth = np.apply_along_axis(convolve,\n",
    "                            axis=0,\n",
    "                            arr=rc)\n",
    "\n",
    "plt.figure(figsize=(12,6))\n",
    "plt.imshow(synth, cmap=\"Greys\", aspect=0.2)\n",
    "plt.colorbar()\n",
    "plt.show()"
   ]
  },
  {
   "cell_type": "markdown",
   "metadata": {
    "collapsed": true
   },
   "source": [
    "## A really cool model\n",
    "\n",
    "Let's load an image and use it as a model."
   ]
  },
  {
   "cell_type": "code",
   "execution_count": null,
   "metadata": {},
   "outputs": [],
   "source": [
    "import matplotlib.image as mpimg\n",
    "\n",
    "img = mpimg.imread('data/Hubbard_etal_2014.png')"
   ]
  },
  {
   "cell_type": "markdown",
   "metadata": {},
   "source": [
    "This is just a 4-channel PNG (red, green, blue, alpha)."
   ]
  },
  {
   "cell_type": "code",
   "execution_count": null,
   "metadata": {},
   "outputs": [],
   "source": [
    "plt.figure(figsize=(12,6))\n",
    "plt.imshow(img)"
   ]
  },
  {
   "cell_type": "markdown",
   "metadata": {},
   "source": [
    "Let's pretend we can make impedance by averaging the channels (there are lots of equally geologically silly ways to do this)."
   ]
  },
  {
   "cell_type": "code",
   "execution_count": null,
   "metadata": {},
   "outputs": [],
   "source": [
    "imp = np.apply_along_axis(np.mean, -1, img)"
   ]
  },
  {
   "cell_type": "markdown",
   "metadata": {},
   "source": [
    "Now carry on as before."
   ]
  },
  {
   "cell_type": "code",
   "execution_count": null,
   "metadata": {},
   "outputs": [],
   "source": [
    "rc = make_rc(imp)\n",
    "\n",
    "synth = np.apply_along_axis(convolve,\n",
    "                            axis=0,\n",
    "                            arr=rc)"
   ]
  },
  {
   "cell_type": "code",
   "execution_count": null,
   "metadata": {},
   "outputs": [],
   "source": [
    "plt.figure(figsize=(12,6))\n",
    "plt.imshow(synth, cmap=\"RdBu\")\n",
    "plt.show()"
   ]
  },
  {
   "cell_type": "markdown",
   "metadata": {},
   "source": [
    "## One more thing"
   ]
  },
  {
   "cell_type": "markdown",
   "metadata": {},
   "source": [
    "We can make this plot interactive, but first we have to turn it into a function.\n",
    "\n",
    "Then it's as simple as doing `from ipywidgets import interact` and adding the `interact` decorator to the function, with a sensible range for the frequency, e.g. `@interact(f=(10,50))`.\n",
    "\n",
    "This provides a JavaScript slider and a path to update the plot interactively with new values of one or more frequencies."
   ]
  },
  {
   "cell_type": "code",
   "execution_count": null,
   "metadata": {},
   "outputs": [],
   "source": [
    "def make_synthetic(f):\n",
    "    wavelet = ricker(0.128, 0.001, f)\n",
    "    def convolve(trace):\n",
    "        return np.convolve(trace, wavelet, mode='same')\n",
    "\n",
    "    synth = np.apply_along_axis(convolve,\n",
    "                                axis=0,\n",
    "                                arr=rc)\n",
    "    plt.figure(figsize=(12,6))\n",
    "    plt.imshow(synth, cmap=\"RdBu\")\n",
    "    plt.show()\n",
    "    return"
   ]
  },
  {
   "cell_type": "code",
   "execution_count": null,
   "metadata": {},
   "outputs": [],
   "source": [
    "make_synthetic(25)"
   ]
  },
  {
   "cell_type": "markdown",
   "metadata": {},
   "source": [
    "### Result"
   ]
  },
  {
   "cell_type": "code",
   "execution_count": null,
   "metadata": {},
   "outputs": [],
   "source": [
    "from ipywidgets import interact\n",
    "\n",
    "@interact(f=(10,50))\n",
    "def make_synthetic(f):\n",
    "    wavelet = ricker(0.128, 0.001, f)\n",
    "    def convolve(trace):\n",
    "        return np.convolve(trace, wavelet, mode='same')\n",
    "\n",
    "    synth = np.apply_along_axis(convolve,\n",
    "                                axis=0,\n",
    "                                arr=rc)\n",
    "    plt.figure(figsize=(12,6))\n",
    "    plt.imshow(synth, cmap=\"RdBu\")\n",
    "    plt.show()\n",
    "    return"
   ]
  },
  {
   "cell_type": "markdown",
   "metadata": {},
   "source": [
    "<hr />\n",
    "\n",
    "<div>\n",
    "<img src=\"https://avatars1.githubusercontent.com/u/1692321?s=50\"><p style=\"text-align:center\">© Agile Geoscience 2016</p>\n",
    "</div>"
   ]
  }
 ],
 "metadata": {
  "anaconda-cloud": {},
  "kernelspec": {
   "display_name": "Python 3",
   "language": "python",
   "name": "python3"
  },
  "language_info": {
   "codemirror_mode": {
    "name": "ipython",
    "version": 3
   },
   "file_extension": ".py",
   "mimetype": "text/x-python",
   "name": "python",
   "nbconvert_exporter": "python",
   "pygments_lexer": "ipython3",
   "version": "3.6.4"
  }
 },
 "nbformat": 4,
 "nbformat_minor": 1
}
